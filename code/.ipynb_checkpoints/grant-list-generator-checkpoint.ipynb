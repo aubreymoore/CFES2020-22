{
 "cells": [
  {
   "cell_type": "markdown",
   "id": "d2235b02",
   "metadata": {},
   "source": [
    "# repo-list-generator\n",
    "\n",
    "Creates a LaTeX table of GitHub repos pshed after a given date."
   ]
  },
  {
   "cell_type": "code",
   "execution_count": 34,
   "id": "05cef1f9-3ec7-4892-9d23-7eec7c25d708",
   "metadata": {},
   "outputs": [],
   "source": [
    "import requests\n",
    "import pandas as pd"
   ]
  },
  {
   "cell_type": "code",
   "execution_count": 35,
   "id": "cb155a2a-243f-414f-b523-468373479b0e",
   "metadata": {},
   "outputs": [],
   "source": [
    "MAXPAGES = 100\n",
    "PERPAGE = 100\n",
    "GHUSERNAME = 'aubreymoore'\n",
    "UPDATEDAFTER = '2020-06-15'"
   ]
  },
  {
   "cell_type": "code",
   "execution_count": 36,
   "id": "41bafa04-a75c-4065-b807-1150f0d1a944",
   "metadata": {},
   "outputs": [],
   "source": [
    "mylist = []\n",
    "for page in range(1, MAXPAGES+1):\n",
    "    r = requests.get(f'https://api.github.com/users/{GHUSERNAME}/repos?per_page={PERPAGE}&page={page}')\n",
    "    repos = r.json()\n",
    "    if len(repos) == 0:\n",
    "        break\n",
    "    else:\n",
    "        for repo in repos:\n",
    "            if repo['pushed_at']:\n",
    "                if repo['pushed_at'] >= UPDATEDAFTER:\n",
    "                    mylist.append({'updated':repo['pushed_at'][:10], 'repo':repo['name']})                 "
   ]
  },
  {
   "cell_type": "code",
   "execution_count": 37,
   "id": "5c77a3aa-aa78-4142-979b-fa57d12247d7",
   "metadata": {},
   "outputs": [
    {
     "data": {
      "text/html": [
       "<div>\n",
       "<style scoped>\n",
       "    .dataframe tbody tr th:only-of-type {\n",
       "        vertical-align: middle;\n",
       "    }\n",
       "\n",
       "    .dataframe tbody tr th {\n",
       "        vertical-align: top;\n",
       "    }\n",
       "\n",
       "    .dataframe thead th {\n",
       "        text-align: right;\n",
       "    }\n",
       "</style>\n",
       "<table border=\"1\" class=\"dataframe\">\n",
       "  <thead>\n",
       "    <tr style=\"text-align: right;\">\n",
       "      <th></th>\n",
       "      <th>updated</th>\n",
       "      <th>repo</th>\n",
       "    </tr>\n",
       "  </thead>\n",
       "  <tbody>\n",
       "    <tr>\n",
       "      <th>28</th>\n",
       "      <td>2022-03-29</td>\n",
       "      <td>\\href{https://github.com/aubreymoore/data-mining-insects-of-guam}{data-mining-insects-of-guam}</td>\n",
       "    </tr>\n",
       "    <tr>\n",
       "      <th>12</th>\n",
       "      <td>2022-03-28</td>\n",
       "      <td>\\href{https://github.com/aubreymoore/CFES2020-22}{CFES2020-22}</td>\n",
       "    </tr>\n",
       "    <tr>\n",
       "      <th>71</th>\n",
       "      <td>2022-03-27</td>\n",
       "      <td>\\href{https://github.com/aubreymoore/Tinian-CAS}{Tinian-CAS}</td>\n",
       "    </tr>\n",
       "    <tr>\n",
       "      <th>72</th>\n",
       "      <td>2022-03-24</td>\n",
       "      <td>\\href{https://github.com/aubreymoore/Tinian-cycad-images}{Tinian-cycad-images}</td>\n",
       "    </tr>\n",
       "    <tr>\n",
       "      <th>8</th>\n",
       "      <td>2022-03-23</td>\n",
       "      <td>\\href{https://github.com/aubreymoore/CAS}{CAS}</td>\n",
       "    </tr>\n",
       "    <tr>\n",
       "      <th>...</th>\n",
       "      <td>...</td>\n",
       "      <td>...</td>\n",
       "    </tr>\n",
       "    <tr>\n",
       "      <th>51</th>\n",
       "      <td>2020-07-10</td>\n",
       "      <td>\\href{https://github.com/aubreymoore/Leo-Palace-Traps}{Leo-Palace-Traps}</td>\n",
       "    </tr>\n",
       "    <tr>\n",
       "      <th>62</th>\n",
       "      <td>2020-07-06</td>\n",
       "      <td>\\href{https://github.com/aubreymoore/qgiswebmap}{qgiswebmap}</td>\n",
       "    </tr>\n",
       "    <tr>\n",
       "      <th>34</th>\n",
       "      <td>2020-07-01</td>\n",
       "      <td>\\href{https://github.com/aubreymoore/Guam-Corona-Virus-Data}{Guam-Corona-Virus-Data}</td>\n",
       "    </tr>\n",
       "    <tr>\n",
       "      <th>25</th>\n",
       "      <td>2020-06-25</td>\n",
       "      <td>\\href{https://github.com/aubreymoore/CRB-trap-improvement}{CRB-trap-improvement}</td>\n",
       "    </tr>\n",
       "    <tr>\n",
       "      <th>69</th>\n",
       "      <td>2020-06-21</td>\n",
       "      <td>\\href{https://github.com/aubreymoore/temp}{temp}</td>\n",
       "    </tr>\n",
       "  </tbody>\n",
       "</table>\n",
       "<p>82 rows × 2 columns</p>\n",
       "</div>"
      ],
      "text/plain": [
       "       updated  \\\n",
       "28  2022-03-29   \n",
       "12  2022-03-28   \n",
       "71  2022-03-27   \n",
       "72  2022-03-24   \n",
       "8   2022-03-23   \n",
       "..         ...   \n",
       "51  2020-07-10   \n",
       "62  2020-07-06   \n",
       "34  2020-07-01   \n",
       "25  2020-06-25   \n",
       "69  2020-06-21   \n",
       "\n",
       "                                                                                              repo  \n",
       "28  \\href{https://github.com/aubreymoore/data-mining-insects-of-guam}{data-mining-insects-of-guam}  \n",
       "12                                  \\href{https://github.com/aubreymoore/CFES2020-22}{CFES2020-22}  \n",
       "71                                    \\href{https://github.com/aubreymoore/Tinian-CAS}{Tinian-CAS}  \n",
       "72                  \\href{https://github.com/aubreymoore/Tinian-cycad-images}{Tinian-cycad-images}  \n",
       "8                                                   \\href{https://github.com/aubreymoore/CAS}{CAS}  \n",
       "..                                                                                             ...  \n",
       "51                        \\href{https://github.com/aubreymoore/Leo-Palace-Traps}{Leo-Palace-Traps}  \n",
       "62                                    \\href{https://github.com/aubreymoore/qgiswebmap}{qgiswebmap}  \n",
       "34            \\href{https://github.com/aubreymoore/Guam-Corona-Virus-Data}{Guam-Corona-Virus-Data}  \n",
       "25                \\href{https://github.com/aubreymoore/CRB-trap-improvement}{CRB-trap-improvement}  \n",
       "69                                                \\href{https://github.com/aubreymoore/temp}{temp}  \n",
       "\n",
       "[82 rows x 2 columns]"
      ]
     },
     "execution_count": 37,
     "metadata": {},
     "output_type": "execute_result"
    }
   ],
   "source": [
    "pd.set_option('display.max_colwidth', None)\n",
    "df = pd.DataFrame(mylist)\n",
    "\n",
    "for i, r in df.iterrows():\n",
    "    df.loc[i, 'repo'] = r'\\href{https://github.com/' + GHUSERNAME + '/' + r.repo + '}{' + r.repo + '}'\n",
    "\n",
    "df.sort_values(\n",
    "    by=['updated'],\n",
    "    ascending=False,\n",
    "    inplace=True)\n",
    "df"
   ]
  },
  {
   "cell_type": "code",
   "execution_count": 38,
   "id": "6030cdf7-a278-42f3-aba6-bc924b26d87e",
   "metadata": {},
   "outputs": [
    {
     "name": "stderr",
     "output_type": "stream",
     "text": [
      "<ipython-input-38-7e832fcc61bb>:3: FutureWarning: In future versions `DataFrame.to_latex` is expected to utilise the base implementation of `Styler.to_latex` for formatting and rendering. The arguments signature may therefore change. It is recommended instead to use `DataFrame.style.to_latex` which also contains additional functionality.\n",
      "  df.to_latex(\n"
     ]
    }
   ],
   "source": [
    "caption = f'List of GitHub repositories updated after {UPDATEDAFTER}.'\n",
    "\n",
    "df.to_latex(\n",
    "    buf='../repolist.tex',\n",
    "    longtable=True,\n",
    "    escape=False,\n",
    "    index=False,\n",
    "    caption=caption,\n",
    "    label='repolist')"
   ]
  },
  {
   "cell_type": "code",
   "execution_count": null,
   "id": "39d2de94",
   "metadata": {},
   "outputs": [],
   "source": []
  }
 ],
 "metadata": {
  "kernelspec": {
   "display_name": "Python 3",
   "language": "python",
   "name": "python3"
  },
  "language_info": {
   "codemirror_mode": {
    "name": "ipython",
    "version": 3
   },
   "file_extension": ".py",
   "mimetype": "text/x-python",
   "name": "python",
   "nbconvert_exporter": "python",
   "pygments_lexer": "ipython3",
   "version": "3.8.10"
  }
 },
 "nbformat": 4,
 "nbformat_minor": 5
}
