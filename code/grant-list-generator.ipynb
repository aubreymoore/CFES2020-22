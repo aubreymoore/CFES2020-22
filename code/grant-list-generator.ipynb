{
 "cells": [
  {
   "cell_type": "markdown",
   "id": "d2235b02",
   "metadata": {},
   "source": [
    "# grant-list-generator\n",
    "\n",
    "Creates a LaTeX table of grants active during the reporting period (2020-06-15 through 2022-06-15).\n",
    "Copy and past the resulting LaTeX table."
   ]
  },
  {
   "cell_type": "code",
   "execution_count": 25,
   "id": "05cef1f9-3ec7-4892-9d23-7eec7c25d708",
   "metadata": {},
   "outputs": [],
   "source": [
    "import pandas as pd"
   ]
  },
  {
   "cell_type": "code",
   "execution_count": 26,
   "id": "454722a7-e233-408e-a51f-cafd3cddbf3c",
   "metadata": {},
   "outputs": [
    {
     "data": {
      "text/html": [
       "<div>\n",
       "<style scoped>\n",
       "    .dataframe tbody tr th:only-of-type {\n",
       "        vertical-align: middle;\n",
       "    }\n",
       "\n",
       "    .dataframe tbody tr th {\n",
       "        vertical-align: top;\n",
       "    }\n",
       "\n",
       "    .dataframe thead th {\n",
       "        text-align: right;\n",
       "    }\n",
       "</style>\n",
       "<table border=\"1\" class=\"dataframe\">\n",
       "  <thead>\n",
       "    <tr style=\"text-align: right;\">\n",
       "      <th></th>\n",
       "      <th>code</th>\n",
       "      <th>title</th>\n",
       "      <th>funding</th>\n",
       "      <th>funding2</th>\n",
       "    </tr>\n",
       "  </thead>\n",
       "  <tbody>\n",
       "    <tr>\n",
       "      <th>0</th>\n",
       "      <td>OIA-CRB</td>\n",
       "      <td>Establishment of Self-sustaining Biological Control of Coconut Rhinoceros Beetle Biotype G in Micronesia</td>\n",
       "      <td>$239,994</td>\n",
       "      <td>239994</td>\n",
       "    </tr>\n",
       "    <tr>\n",
       "      <th>1</th>\n",
       "      <td>APHIS-CRB</td>\n",
       "      <td>Biological Control of Coconut Rhinoceros Beetle Biotype G on Guam</td>\n",
       "      <td>$200,000</td>\n",
       "      <td>200000</td>\n",
       "    </tr>\n",
       "    <tr>\n",
       "      <th>2</th>\n",
       "      <td>FS-CRB</td>\n",
       "      <td>Establishment of Self-sustaining Biological Control of Coconut Rhinoceros Beetle Biotype G in Micronesia</td>\n",
       "      <td>$98,240</td>\n",
       "      <td>98240</td>\n",
       "    </tr>\n",
       "    <tr>\n",
       "      <th>3</th>\n",
       "      <td>BIODIVERSITY</td>\n",
       "      <td>Guam Forest Biodiversity Inventory</td>\n",
       "      <td>$80,000</td>\n",
       "      <td>80000</td>\n",
       "    </tr>\n",
       "    <tr>\n",
       "      <th>4</th>\n",
       "      <td>WPDN1</td>\n",
       "      <td>Western Plant Diagnostic Network</td>\n",
       "      <td>$63,366</td>\n",
       "      <td>63366</td>\n",
       "    </tr>\n",
       "    <tr>\n",
       "      <th>5</th>\n",
       "      <td>8SPOT</td>\n",
       "      <td>Captive Breeding of Eight-spot Butterfly</td>\n",
       "      <td>$23,212</td>\n",
       "      <td>23212</td>\n",
       "    </tr>\n",
       "    <tr>\n",
       "      <th>6</th>\n",
       "      <td>FS-CRB-HR</td>\n",
       "      <td>Improving Coconut Rhinoceros Beetle Breeding Site Detection Using Harmonic Radar</td>\n",
       "      <td>$23,000</td>\n",
       "      <td>23000</td>\n",
       "    </tr>\n",
       "    <tr>\n",
       "      <th>7</th>\n",
       "      <td>WPDN2</td>\n",
       "      <td>Western Plant Diagnostic Network FY2022</td>\n",
       "      <td>$15,000</td>\n",
       "      <td>15000</td>\n",
       "    </tr>\n",
       "  </tbody>\n",
       "</table>\n",
       "</div>"
      ],
      "text/plain": [
       "           code  \\\n",
       "0       OIA-CRB   \n",
       "1     APHIS-CRB   \n",
       "2        FS-CRB   \n",
       "3  BIODIVERSITY   \n",
       "4         WPDN1   \n",
       "5         8SPOT   \n",
       "6     FS-CRB-HR   \n",
       "7         WPDN2   \n",
       "\n",
       "                                                                                                      title  \\\n",
       "0  Establishment of Self-sustaining Biological Control of Coconut Rhinoceros Beetle Biotype G in Micronesia   \n",
       "1                                         Biological Control of Coconut Rhinoceros Beetle Biotype G on Guam   \n",
       "2  Establishment of Self-sustaining Biological Control of Coconut Rhinoceros Beetle Biotype G in Micronesia   \n",
       "3                                                                        Guam Forest Biodiversity Inventory   \n",
       "4                                                                          Western Plant Diagnostic Network   \n",
       "5                                                                  Captive Breeding of Eight-spot Butterfly   \n",
       "6                          Improving Coconut Rhinoceros Beetle Breeding Site Detection Using Harmonic Radar   \n",
       "7                                                                   Western Plant Diagnostic Network FY2022   \n",
       "\n",
       "    funding  funding2  \n",
       "0  $239,994    239994  \n",
       "1  $200,000    200000  \n",
       "2   $98,240     98240  \n",
       "3   $80,000     80000  \n",
       "4   $63,366     63366  \n",
       "5   $23,212     23212  \n",
       "6   $23,000     23000  \n",
       "7   $15,000     15000  "
      ]
     },
     "execution_count": 26,
     "metadata": {},
     "output_type": "execute_result"
    }
   ],
   "source": [
    "pd.set_option('display.max_colwidth', None) # prevents ellipses\n",
    "\n",
    "df = pd.read_csv('grantlist.csv')\n",
    "df"
   ]
  },
  {
   "cell_type": "code",
   "execution_count": 28,
   "id": "7bd84fbf-3368-4f5c-8784-e5ec9fa3fdf7",
   "metadata": {},
   "outputs": [
    {
     "name": "stdout",
     "output_type": "stream",
     "text": [
      "\\begin{table}\n",
      "\\centering\n",
      "\\caption{List of grants active during the reporting period (2020-06-15 through 2022-06-15).}\n",
      "\\label{grantlist}\n",
      "\\begin{tabular}{lp{3in}>{\\raggedleft\\arraybackslash}l}\n",
      "\\toprule\n",
      "        code &                                                                                                    title &  funding \\\\\n",
      "\\midrule\n",
      "     OIA-CRB & Establishment of Self-sustaining Biological Control of Coconut Rhinoceros Beetle Biotype G in Micronesia & \\$239,994 \\\\\n",
      "   APHIS-CRB &                                        Biological Control of Coconut Rhinoceros Beetle Biotype G on Guam & \\$200,000 \\\\\n",
      "      FS-CRB & Establishment of Self-sustaining Biological Control of Coconut Rhinoceros Beetle Biotype G in Micronesia &  \\$98,240 \\\\\n",
      "BIODIVERSITY &                                                                       Guam Forest Biodiversity Inventory &  \\$80,000 \\\\\n",
      "       WPDN1 &                                                                         Western Plant Diagnostic Network &  \\$63,366 \\\\\n",
      "       8SPOT &                                                                 Captive Breeding of Eight-spot Butterfly &  \\$23,212 \\\\\n",
      "   FS-CRB-HR &                         Improving Coconut Rhinoceros Beetle Breeding Site Detection Using Harmonic Radar &  \\$23,000 \\\\\n",
      "       WPDN2 &                                                                  Western Plant Diagnostic Network FY2022 &  \\$15,000 \\\\\n",
      "\\bottomrule\n",
      "\\end{tabular}\n",
      "\\end{table}\n",
      "\n"
     ]
    },
    {
     "name": "stderr",
     "output_type": "stream",
     "text": [
      "<ipython-input-28-eadb2d9975d7>:3: FutureWarning: In future versions `DataFrame.to_latex` is expected to utilise the base implementation of `Styler.to_latex` for formatting and rendering. The arguments signature may therefore change. It is recommended instead to use `DataFrame.style.to_latex` which also contains additional functionality.\n",
      "  grantlist = df.to_latex(\n"
     ]
    }
   ],
   "source": [
    "caption = f'List of grants active during the reporting period (2020-06-15 through 2022-06-15).'\n",
    "\n",
    "grantlist = df.to_latex(\n",
    "#    buf='../repolist.tex',\n",
    "    columns=['code','title','funding'],\n",
    "    column_format='lp{3in}>{\\\\raggedleft\\\\arraybackslash}l',\n",
    "    longtable=False,\n",
    "    escape=True,\n",
    "    index=False,\n",
    "    caption=caption,\n",
    "    label='grantlist')\n",
    "print(grantlist)"
   ]
  },
  {
   "cell_type": "code",
   "execution_count": null,
   "id": "ced96de1-2af8-44cd-b547-4bcbbd3aadcc",
   "metadata": {},
   "outputs": [],
   "source": []
  }
 ],
 "metadata": {
  "kernelspec": {
   "display_name": "Python 3",
   "language": "python",
   "name": "python3"
  },
  "language_info": {
   "codemirror_mode": {
    "name": "ipython",
    "version": 3
   },
   "file_extension": ".py",
   "mimetype": "text/x-python",
   "name": "python",
   "nbconvert_exporter": "python",
   "pygments_lexer": "ipython3",
   "version": "3.8.8"
  }
 },
 "nbformat": 4,
 "nbformat_minor": 5
}
